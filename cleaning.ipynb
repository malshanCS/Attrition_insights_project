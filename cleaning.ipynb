{
 "cells": [
  {
   "cell_type": "code",
   "execution_count": 580,
   "metadata": {},
   "outputs": [],
   "source": [
    "import pandas as pd\n",
    "import numpy as np\n",
    "import matplotlib.pyplot as plt\n",
    "import seaborn as sns"
   ]
  },
  {
   "cell_type": "code",
   "execution_count": 581,
   "metadata": {},
   "outputs": [],
   "source": [
    "employee = pd.read_csv('employees.csv')\n",
    "# employee.head(20)"
   ]
  },
  {
   "attachments": {},
   "cell_type": "markdown",
   "metadata": {},
   "source": [
    "### Change Genders and Maritial Status Accordingly"
   ]
  },
  {
   "cell_type": "code",
   "execution_count": 582,
   "metadata": {},
   "outputs": [],
   "source": [
    "# If the Gender is Male, Change title to Mr\n",
    "employee.loc[employee['Gender'] == 'Male', ['Title']] = 'Mr'\n"
   ]
  },
  {
   "cell_type": "code",
   "execution_count": 583,
   "metadata": {},
   "outputs": [],
   "source": [
    "\n",
    "# If the Gender is Female, and Status is Single, Change title to Miss\n",
    "employee.loc[(employee['Gender'] == 'Female') & (employee['Marital_Status'] == 'Single'), 'Title'] = 'Miss'\n"
   ]
  },
  {
   "cell_type": "code",
   "execution_count": 584,
   "metadata": {},
   "outputs": [],
   "source": [
    "# If the Gender is Female, and Status is Married, Change title to Miss\n",
    "employee.loc[(employee['Gender'] == 'Female') & (employee['Marital_Status'] == 'Married'), 'Title'] = 'Ms'\n",
    "\n"
   ]
  },
  {
   "cell_type": "code",
   "execution_count": 241,
   "metadata": {},
   "outputs": [],
   "source": [
    "\n",
    "# # If name contains Ms, Change gender to Female and title to Ms\n",
    "# employee.loc[employee['Name'].str.contains('Ms '), ['Title','Gender']] = ['Ms','Female']\n"
   ]
  },
  {
   "cell_type": "code",
   "execution_count": 242,
   "metadata": {},
   "outputs": [],
   "source": [
    "\n",
    "# # If name contains Miss, Change gender to Female and title to Miss\n",
    "# employee.loc[employee['Name'].str.contains('Miss '), ['Title','Gender']] = ['Miss','Female']\n"
   ]
  },
  {
   "cell_type": "code",
   "execution_count": 243,
   "metadata": {},
   "outputs": [],
   "source": [
    "\n",
    "# # First two are Females and Last one is a Male\n",
    "# employee.loc[employee['Employee_No'].isin([551,601]), ['Title']] = 'Ms'\n"
   ]
  },
  {
   "cell_type": "code",
   "execution_count": 244,
   "metadata": {},
   "outputs": [],
   "source": [
    "\n",
    "# employee.loc[employee['Employee_No']== 2369 , ['Gender']] = 'Male'\n"
   ]
  },
  {
   "cell_type": "code",
   "execution_count": 245,
   "metadata": {},
   "outputs": [],
   "source": [
    "\n",
    "# employee.loc[employee['Employee_No'].isin([1886,2509]), ['Title']] = 'Mr'\n"
   ]
  },
  {
   "cell_type": "code",
   "execution_count": 246,
   "metadata": {},
   "outputs": [],
   "source": [
    "\n",
    "# employee.loc[(employee['Title'] == 'Ms') & (employee['Gender'] == 'Male'),['Gender']]='Female'\n"
   ]
  },
  {
   "cell_type": "code",
   "execution_count": 247,
   "metadata": {},
   "outputs": [],
   "source": [
    "\n",
    "# employee.loc[(employee['Title'].isin(['Ms','Mrs','Miss'])) & (employee['Gender'] == 'Male'), ['Gender']] = 'Female'\n"
   ]
  },
  {
   "cell_type": "code",
   "execution_count": 371,
   "metadata": {},
   "outputs": [],
   "source": [
    "# employee.tail(20)"
   ]
  },
  {
   "cell_type": "code",
   "execution_count": null,
   "metadata": {},
   "outputs": [],
   "source": []
  },
  {
   "attachments": {},
   "cell_type": "markdown",
   "metadata": {},
   "source": [
    "### Some Extra works"
   ]
  },
  {
   "cell_type": "code",
   "execution_count": 585,
   "metadata": {},
   "outputs": [],
   "source": [
    "employee.loc[employee['Year_of_Birth'] == \"'0000'\"]\n",
    "employee.loc[employee['Year_of_Birth'] == \"'0000'\", 'Year_of_Birth'] = '0000'"
   ]
  },
  {
   "cell_type": "code",
   "execution_count": 586,
   "metadata": {},
   "outputs": [],
   "source": [
    "employee['Date_Joined'] = pd.to_datetime(employee['Date_Joined'])"
   ]
  },
  {
   "cell_type": "code",
   "execution_count": 251,
   "metadata": {},
   "outputs": [
    {
     "data": {
      "text/html": [
       "<div>\n",
       "<style scoped>\n",
       "    .dataframe tbody tr th:only-of-type {\n",
       "        vertical-align: middle;\n",
       "    }\n",
       "\n",
       "    .dataframe tbody tr th {\n",
       "        vertical-align: top;\n",
       "    }\n",
       "\n",
       "    .dataframe thead th {\n",
       "        text-align: right;\n",
       "    }\n",
       "</style>\n",
       "<table border=\"1\" class=\"dataframe\">\n",
       "  <thead>\n",
       "    <tr style=\"text-align: right;\">\n",
       "      <th></th>\n",
       "      <th>Employee_No</th>\n",
       "      <th>Employee_Code</th>\n",
       "      <th>Name</th>\n",
       "      <th>Title</th>\n",
       "      <th>Gender</th>\n",
       "      <th>Religion_ID</th>\n",
       "      <th>Marital_Status</th>\n",
       "      <th>Designation_ID</th>\n",
       "      <th>Date_Joined</th>\n",
       "      <th>Date_Resigned</th>\n",
       "      <th>Status</th>\n",
       "      <th>Inactive_Date</th>\n",
       "      <th>Reporting_emp_1</th>\n",
       "      <th>Reporting_emp_2</th>\n",
       "      <th>Employment_Category</th>\n",
       "      <th>Employment_Type</th>\n",
       "      <th>Religion</th>\n",
       "      <th>Designation</th>\n",
       "      <th>Year_of_Birth</th>\n",
       "    </tr>\n",
       "  </thead>\n",
       "  <tbody>\n",
       "    <tr>\n",
       "      <th>40</th>\n",
       "      <td>405</td>\n",
       "      <td>2034</td>\n",
       "      <td>Scottie Ratke</td>\n",
       "      <td>Mr</td>\n",
       "      <td>Male</td>\n",
       "      <td>1</td>\n",
       "      <td>NaN</td>\n",
       "      <td>27</td>\n",
       "      <td>2014-06-09</td>\n",
       "      <td>0000-00-00</td>\n",
       "      <td>Inactive</td>\n",
       "      <td>12/5/2019</td>\n",
       "      <td>\\N</td>\n",
       "      <td>\\N</td>\n",
       "      <td>Staff</td>\n",
       "      <td>Contarct Basis</td>\n",
       "      <td>Buddhist</td>\n",
       "      <td>Supervisor</td>\n",
       "      <td>0000</td>\n",
       "    </tr>\n",
       "    <tr>\n",
       "      <th>44</th>\n",
       "      <td>411</td>\n",
       "      <td>2301</td>\n",
       "      <td>Jesus Dietrich Sr</td>\n",
       "      <td>Mr</td>\n",
       "      <td>Male</td>\n",
       "      <td>1</td>\n",
       "      <td>Married</td>\n",
       "      <td>24</td>\n",
       "      <td>2015-04-28</td>\n",
       "      <td>0000-00-00</td>\n",
       "      <td>Active</td>\n",
       "      <td>0000-00-00</td>\n",
       "      <td>\\N</td>\n",
       "      <td>\\N</td>\n",
       "      <td>Staff</td>\n",
       "      <td>Contarct Basis</td>\n",
       "      <td>Buddhist</td>\n",
       "      <td>Driver</td>\n",
       "      <td>0000</td>\n",
       "    </tr>\n",
       "    <tr>\n",
       "      <th>73</th>\n",
       "      <td>455</td>\n",
       "      <td>2975</td>\n",
       "      <td>Madisyn Huel</td>\n",
       "      <td>Mr</td>\n",
       "      <td>Male</td>\n",
       "      <td>3</td>\n",
       "      <td>Single</td>\n",
       "      <td>49</td>\n",
       "      <td>2017-03-27</td>\n",
       "      <td>2/19/2022</td>\n",
       "      <td>Inactive</td>\n",
       "      <td>2/19/2022</td>\n",
       "      <td>1333</td>\n",
       "      <td>\\N</td>\n",
       "      <td>Staff</td>\n",
       "      <td>Contarct Basis</td>\n",
       "      <td>Hindu</td>\n",
       "      <td>Junior Technical Officer</td>\n",
       "      <td>0000</td>\n",
       "    </tr>\n",
       "    <tr>\n",
       "      <th>74</th>\n",
       "      <td>456</td>\n",
       "      <td>2984</td>\n",
       "      <td>Aurelie Green</td>\n",
       "      <td>Mr</td>\n",
       "      <td>Male</td>\n",
       "      <td>1</td>\n",
       "      <td>Married</td>\n",
       "      <td>30</td>\n",
       "      <td>2019-01-01</td>\n",
       "      <td>0000-00-00</td>\n",
       "      <td>Inactive</td>\n",
       "      <td>3/31/2020</td>\n",
       "      <td>\\N</td>\n",
       "      <td>\\N</td>\n",
       "      <td>Labour</td>\n",
       "      <td>Contarct Basis</td>\n",
       "      <td>Buddhist</td>\n",
       "      <td>Semi Skilled Labor</td>\n",
       "      <td>0000</td>\n",
       "    </tr>\n",
       "    <tr>\n",
       "      <th>77</th>\n",
       "      <td>461</td>\n",
       "      <td>3009</td>\n",
       "      <td>Miss Chelsie Heidenreich</td>\n",
       "      <td>Mr</td>\n",
       "      <td>Male</td>\n",
       "      <td>1</td>\n",
       "      <td>Married</td>\n",
       "      <td>1</td>\n",
       "      <td>2019-01-01</td>\n",
       "      <td>0000-00-00</td>\n",
       "      <td>Inactive</td>\n",
       "      <td>6/1/2021</td>\n",
       "      <td>\\N</td>\n",
       "      <td>\\N</td>\n",
       "      <td>Labour</td>\n",
       "      <td>Contarct Basis</td>\n",
       "      <td>Buddhist</td>\n",
       "      <td>Skilled Labor</td>\n",
       "      <td>0000</td>\n",
       "    </tr>\n",
       "    <tr>\n",
       "      <th>...</th>\n",
       "      <td>...</td>\n",
       "      <td>...</td>\n",
       "      <td>...</td>\n",
       "      <td>...</td>\n",
       "      <td>...</td>\n",
       "      <td>...</td>\n",
       "      <td>...</td>\n",
       "      <td>...</td>\n",
       "      <td>...</td>\n",
       "      <td>...</td>\n",
       "      <td>...</td>\n",
       "      <td>...</td>\n",
       "      <td>...</td>\n",
       "      <td>...</td>\n",
       "      <td>...</td>\n",
       "      <td>...</td>\n",
       "      <td>...</td>\n",
       "      <td>...</td>\n",
       "      <td>...</td>\n",
       "    </tr>\n",
       "    <tr>\n",
       "      <th>978</th>\n",
       "      <td>2615</td>\n",
       "      <td>1935042</td>\n",
       "      <td>Marge Kemmer</td>\n",
       "      <td>Mr</td>\n",
       "      <td>Male</td>\n",
       "      <td>1</td>\n",
       "      <td>Single</td>\n",
       "      <td>31</td>\n",
       "      <td>2022-05-25</td>\n",
       "      <td>0000-00-00</td>\n",
       "      <td>Active</td>\n",
       "      <td>0000-00-00</td>\n",
       "      <td>\\N</td>\n",
       "      <td>\\N</td>\n",
       "      <td>Labour</td>\n",
       "      <td>Contarct Basis</td>\n",
       "      <td>Buddhist</td>\n",
       "      <td>Unskilled Labor</td>\n",
       "      <td>0000</td>\n",
       "    </tr>\n",
       "    <tr>\n",
       "      <th>979</th>\n",
       "      <td>2616</td>\n",
       "      <td>1935043</td>\n",
       "      <td>Dr Orville Schmidt V</td>\n",
       "      <td>Mr</td>\n",
       "      <td>Male</td>\n",
       "      <td>1</td>\n",
       "      <td>Single</td>\n",
       "      <td>31</td>\n",
       "      <td>2022-05-25</td>\n",
       "      <td>0000-00-00</td>\n",
       "      <td>Active</td>\n",
       "      <td>0000-00-00</td>\n",
       "      <td>\\N</td>\n",
       "      <td>\\N</td>\n",
       "      <td>Labour</td>\n",
       "      <td>Contarct Basis</td>\n",
       "      <td>Buddhist</td>\n",
       "      <td>Unskilled Labor</td>\n",
       "      <td>0000</td>\n",
       "    </tr>\n",
       "    <tr>\n",
       "      <th>980</th>\n",
       "      <td>2617</td>\n",
       "      <td>1935044</td>\n",
       "      <td>Maverick Doyle DVM</td>\n",
       "      <td>Mr</td>\n",
       "      <td>Male</td>\n",
       "      <td>1</td>\n",
       "      <td>Single</td>\n",
       "      <td>31</td>\n",
       "      <td>2022-05-25</td>\n",
       "      <td>\\N</td>\n",
       "      <td>Active</td>\n",
       "      <td>\\N</td>\n",
       "      <td>\\N</td>\n",
       "      <td>\\N</td>\n",
       "      <td>Labour</td>\n",
       "      <td>Contarct Basis</td>\n",
       "      <td>Buddhist</td>\n",
       "      <td>Unskilled Labor</td>\n",
       "      <td>0000</td>\n",
       "    </tr>\n",
       "    <tr>\n",
       "      <th>981</th>\n",
       "      <td>2637</td>\n",
       "      <td>193215</td>\n",
       "      <td>Troy Beier</td>\n",
       "      <td>Mr</td>\n",
       "      <td>Male</td>\n",
       "      <td>1</td>\n",
       "      <td>Married</td>\n",
       "      <td>24</td>\n",
       "      <td>2022-06-20</td>\n",
       "      <td>\\N</td>\n",
       "      <td>Active</td>\n",
       "      <td>\\N</td>\n",
       "      <td>\\N</td>\n",
       "      <td>\\N</td>\n",
       "      <td>Labour</td>\n",
       "      <td>Contarct Basis</td>\n",
       "      <td>Buddhist</td>\n",
       "      <td>Driver</td>\n",
       "      <td>0000</td>\n",
       "    </tr>\n",
       "    <tr>\n",
       "      <th>985</th>\n",
       "      <td>2705</td>\n",
       "      <td>193219</td>\n",
       "      <td>Jordon Hickle I</td>\n",
       "      <td>Mr</td>\n",
       "      <td>Male</td>\n",
       "      <td>1</td>\n",
       "      <td>Married</td>\n",
       "      <td>31</td>\n",
       "      <td>2022-08-29</td>\n",
       "      <td>0000-00-00</td>\n",
       "      <td>Active</td>\n",
       "      <td>0000-00-00</td>\n",
       "      <td>\\N</td>\n",
       "      <td>\\N</td>\n",
       "      <td>Labour</td>\n",
       "      <td>Contarct Basis</td>\n",
       "      <td>Buddhist</td>\n",
       "      <td>Unskilled Labor</td>\n",
       "      <td>0000</td>\n",
       "    </tr>\n",
       "  </tbody>\n",
       "</table>\n",
       "<p>103 rows × 19 columns</p>\n",
       "</div>"
      ],
      "text/plain": [
       "     Employee_No  Employee_Code                      Name Title Gender  \\\n",
       "40           405           2034             Scottie Ratke    Mr   Male   \n",
       "44           411           2301         Jesus Dietrich Sr    Mr   Male   \n",
       "73           455           2975              Madisyn Huel    Mr   Male   \n",
       "74           456           2984             Aurelie Green    Mr   Male   \n",
       "77           461           3009  Miss Chelsie Heidenreich    Mr   Male   \n",
       "..           ...            ...                       ...   ...    ...   \n",
       "978         2615        1935042              Marge Kemmer    Mr   Male   \n",
       "979         2616        1935043      Dr Orville Schmidt V    Mr   Male   \n",
       "980         2617        1935044        Maverick Doyle DVM    Mr   Male   \n",
       "981         2637         193215                Troy Beier    Mr   Male   \n",
       "985         2705         193219           Jordon Hickle I    Mr   Male   \n",
       "\n",
       "     Religion_ID Marital_Status  Designation_ID Date_Joined Date_Resigned  \\\n",
       "40             1            NaN              27  2014-06-09    0000-00-00   \n",
       "44             1        Married              24  2015-04-28    0000-00-00   \n",
       "73             3         Single              49  2017-03-27     2/19/2022   \n",
       "74             1        Married              30  2019-01-01    0000-00-00   \n",
       "77             1        Married               1  2019-01-01    0000-00-00   \n",
       "..           ...            ...             ...         ...           ...   \n",
       "978            1         Single              31  2022-05-25    0000-00-00   \n",
       "979            1         Single              31  2022-05-25    0000-00-00   \n",
       "980            1         Single              31  2022-05-25            \\N   \n",
       "981            1        Married              24  2022-06-20            \\N   \n",
       "985            1        Married              31  2022-08-29    0000-00-00   \n",
       "\n",
       "       Status Inactive_Date Reporting_emp_1 Reporting_emp_2  \\\n",
       "40   Inactive     12/5/2019              \\N              \\N   \n",
       "44     Active    0000-00-00              \\N              \\N   \n",
       "73   Inactive     2/19/2022            1333              \\N   \n",
       "74   Inactive     3/31/2020              \\N              \\N   \n",
       "77   Inactive      6/1/2021              \\N              \\N   \n",
       "..        ...           ...             ...             ...   \n",
       "978    Active    0000-00-00              \\N              \\N   \n",
       "979    Active    0000-00-00              \\N              \\N   \n",
       "980    Active            \\N              \\N              \\N   \n",
       "981    Active            \\N              \\N              \\N   \n",
       "985    Active    0000-00-00              \\N              \\N   \n",
       "\n",
       "    Employment_Category Employment_Type  Religion               Designation  \\\n",
       "40                Staff  Contarct Basis  Buddhist                Supervisor   \n",
       "44                Staff  Contarct Basis  Buddhist                    Driver   \n",
       "73                Staff  Contarct Basis     Hindu  Junior Technical Officer   \n",
       "74               Labour  Contarct Basis  Buddhist        Semi Skilled Labor   \n",
       "77               Labour  Contarct Basis  Buddhist             Skilled Labor   \n",
       "..                  ...             ...       ...                       ...   \n",
       "978              Labour  Contarct Basis  Buddhist           Unskilled Labor   \n",
       "979              Labour  Contarct Basis  Buddhist           Unskilled Labor   \n",
       "980              Labour  Contarct Basis  Buddhist           Unskilled Labor   \n",
       "981              Labour  Contarct Basis  Buddhist                    Driver   \n",
       "985              Labour  Contarct Basis  Buddhist           Unskilled Labor   \n",
       "\n",
       "    Year_of_Birth  \n",
       "40           0000  \n",
       "44           0000  \n",
       "73           0000  \n",
       "74           0000  \n",
       "77           0000  \n",
       "..            ...  \n",
       "978          0000  \n",
       "979          0000  \n",
       "980          0000  \n",
       "981          0000  \n",
       "985          0000  \n",
       "\n",
       "[103 rows x 19 columns]"
      ]
     },
     "execution_count": 251,
     "metadata": {},
     "output_type": "execute_result"
    }
   ],
   "source": [
    "# employee.loc[employee['Year_of_Birth']=='0000']"
   ]
  },
  {
   "cell_type": "code",
   "execution_count": 587,
   "metadata": {},
   "outputs": [],
   "source": [
    "employee_copy = employee.copy()"
   ]
  },
  {
   "cell_type": "code",
   "execution_count": 588,
   "metadata": {},
   "outputs": [],
   "source": [
    "# Extract the year from the 'Date_Joined' column\n",
    "employee['Joining_Year'] = employee['Date_Joined'].dt.year # Extract the year from the 'Date_Joined' column"
   ]
  },
  {
   "cell_type": "code",
   "execution_count": 376,
   "metadata": {},
   "outputs": [],
   "source": [
    "# employee.isna().sum()   "
   ]
  },
  {
   "cell_type": "code",
   "execution_count": 128,
   "metadata": {},
   "outputs": [],
   "source": [
    "# # drop rows where year of birth is 0000\n",
    "# employee = employee[employee['Year_of_Birth'] != '0000']"
   ]
  },
  {
   "cell_type": "code",
   "execution_count": 589,
   "metadata": {},
   "outputs": [],
   "source": [
    "employee['Year_of_Birth'] = employee['Year_of_Birth'].astype(int)"
   ]
  },
  {
   "cell_type": "code",
   "execution_count": 590,
   "metadata": {},
   "outputs": [],
   "source": [
    "# set 0000 to NaN in Year_of_Birth\n",
    "employee.loc[employee['Year_of_Birth'] == 0, 'Year_of_Birth'] = np.nan"
   ]
  },
  {
   "cell_type": "code",
   "execution_count": 130,
   "metadata": {},
   "outputs": [],
   "source": [
    "# employee.loc[(employee['Date_Resigned'] != '0000-00-00') | (employee['Date_Resigned'] != '\\\\N'), 'Status'] = 'Inactive'"
   ]
  },
  {
   "cell_type": "code",
   "execution_count": 591,
   "metadata": {},
   "outputs": [],
   "source": [
    "from sklearn.preprocessing import LabelEncoder\n",
    "\n",
    "label_encoder = LabelEncoder()\n",
    "\n",
    "employee['Gender_temp'] = label_encoder.fit_transform(employee['Gender'].astype(str))\n",
    "employee['Status_temp'] = label_encoder.fit_transform(employee['Status'].astype(str))\n",
    "employee['Title_temp'] = label_encoder.fit_transform(employee['Title'].astype(str))\n",
    "\n"
   ]
  },
  {
   "cell_type": "code",
   "execution_count": 592,
   "metadata": {},
   "outputs": [],
   "source": [
    "employee['Employment_Category_temp'] = label_encoder.fit_transform(employee['Employment_Category'].astype(str))\n",
    "employee['Employment_Type_temp'] = label_encoder.fit_transform(employee['Employment_Type'].astype(str))"
   ]
  },
  {
   "cell_type": "code",
   "execution_count": null,
   "metadata": {},
   "outputs": [],
   "source": [
    "#"
   ]
  },
  {
   "cell_type": "code",
   "execution_count": null,
   "metadata": {},
   "outputs": [],
   "source": []
  },
  {
   "cell_type": "code",
   "execution_count": 233,
   "metadata": {},
   "outputs": [],
   "source": [
    "# # Create a new column called age\n",
    "# employee['Age'] = 2023 - employee['Year_of_Birth']"
   ]
  },
  {
   "cell_type": "code",
   "execution_count": 381,
   "metadata": {},
   "outputs": [],
   "source": [
    "# employee.isna().sum()"
   ]
  },
  {
   "cell_type": "code",
   "execution_count": 593,
   "metadata": {},
   "outputs": [],
   "source": [
    "# employee"
   ]
  },
  {
   "cell_type": "code",
   "execution_count": 594,
   "metadata": {},
   "outputs": [],
   "source": [
    "employee['Age_at_Joining'] = employee['Joining_Year'] - employee['Year_of_Birth']\n",
    "employee['Years_of_Service'] = 2023 - employee['Joining_Year']\n",
    "\n",
    "test_df = employee[pd.isnull(employee['Year_of_Birth'])]\n",
    "train_df = employee[pd.notnull(employee['Year_of_Birth'])]"
   ]
  },
  {
   "cell_type": "code",
   "execution_count": 595,
   "metadata": {},
   "outputs": [],
   "source": [
    "train_df = train_df.drop(columns=['Name','Title','Marital_Status','Gender','Date_Resigned','Status','Date_Joined','Inactive_Date','Reporting_emp_1','Reporting_emp_2','Employment_Category','Employment_Type','Religion','Designation'])\n",
    "\n",
    "test_df = test_df.drop(columns=['Name','Title','Gender','Marital_Status','Date_Resigned','Status','Date_Joined','Inactive_Date','Reporting_emp_1','Reporting_emp_2','Employment_Category','Employment_Type','Religion','Designation'])"
   ]
  },
  {
   "cell_type": "code",
   "execution_count": 596,
   "metadata": {},
   "outputs": [],
   "source": [
    "# train_df['Age_at_Joining'] = train_df['Joining_Year'] - train_df['Year_of_Birth']\n",
    "# train_df['Years_of_Service'] = 2023 - train_df['Joining_Year']\n",
    "\n",
    "# Drop unnecessary columns\n",
    "train_df.drop(['Joining_Year'], axis=1, inplace=True)"
   ]
  },
  {
   "cell_type": "code",
   "execution_count": 497,
   "metadata": {},
   "outputs": [
    {
     "data": {
      "text/html": [
       "<div>\n",
       "<style scoped>\n",
       "    .dataframe tbody tr th:only-of-type {\n",
       "        vertical-align: middle;\n",
       "    }\n",
       "\n",
       "    .dataframe tbody tr th {\n",
       "        vertical-align: top;\n",
       "    }\n",
       "\n",
       "    .dataframe thead th {\n",
       "        text-align: right;\n",
       "    }\n",
       "</style>\n",
       "<table border=\"1\" class=\"dataframe\">\n",
       "  <thead>\n",
       "    <tr style=\"text-align: right;\">\n",
       "      <th></th>\n",
       "      <th>Employee_No</th>\n",
       "      <th>Employee_Code</th>\n",
       "      <th>Religion_ID</th>\n",
       "      <th>Designation_ID</th>\n",
       "      <th>Year_of_Birth</th>\n",
       "      <th>Gender_temp</th>\n",
       "      <th>Status_temp</th>\n",
       "      <th>Title_temp</th>\n",
       "      <th>Employment_Category_temp</th>\n",
       "      <th>Employment_Type_temp</th>\n",
       "      <th>Years_of_Service</th>\n",
       "    </tr>\n",
       "  </thead>\n",
       "  <tbody>\n",
       "    <tr>\n",
       "      <th>0</th>\n",
       "      <td>347</td>\n",
       "      <td>6</td>\n",
       "      <td>1</td>\n",
       "      <td>24</td>\n",
       "      <td>1965.0</td>\n",
       "      <td>1</td>\n",
       "      <td>0</td>\n",
       "      <td>1</td>\n",
       "      <td>2</td>\n",
       "      <td>1</td>\n",
       "      <td>30</td>\n",
       "    </tr>\n",
       "    <tr>\n",
       "      <th>1</th>\n",
       "      <td>348</td>\n",
       "      <td>33</td>\n",
       "      <td>1</td>\n",
       "      <td>24</td>\n",
       "      <td>1973.0</td>\n",
       "      <td>1</td>\n",
       "      <td>0</td>\n",
       "      <td>1</td>\n",
       "      <td>2</td>\n",
       "      <td>1</td>\n",
       "      <td>28</td>\n",
       "    </tr>\n",
       "    <tr>\n",
       "      <th>2</th>\n",
       "      <td>349</td>\n",
       "      <td>53</td>\n",
       "      <td>1</td>\n",
       "      <td>23</td>\n",
       "      <td>1974.0</td>\n",
       "      <td>1</td>\n",
       "      <td>1</td>\n",
       "      <td>1</td>\n",
       "      <td>2</td>\n",
       "      <td>1</td>\n",
       "      <td>35</td>\n",
       "    </tr>\n",
       "    <tr>\n",
       "      <th>3</th>\n",
       "      <td>351</td>\n",
       "      <td>77</td>\n",
       "      <td>4</td>\n",
       "      <td>40</td>\n",
       "      <td>1974.0</td>\n",
       "      <td>0</td>\n",
       "      <td>1</td>\n",
       "      <td>2</td>\n",
       "      <td>2</td>\n",
       "      <td>1</td>\n",
       "      <td>24</td>\n",
       "    </tr>\n",
       "    <tr>\n",
       "      <th>4</th>\n",
       "      <td>352</td>\n",
       "      <td>88</td>\n",
       "      <td>1</td>\n",
       "      <td>7</td>\n",
       "      <td>1980.0</td>\n",
       "      <td>1</td>\n",
       "      <td>0</td>\n",
       "      <td>1</td>\n",
       "      <td>2</td>\n",
       "      <td>1</td>\n",
       "      <td>22</td>\n",
       "    </tr>\n",
       "    <tr>\n",
       "      <th>...</th>\n",
       "      <td>...</td>\n",
       "      <td>...</td>\n",
       "      <td>...</td>\n",
       "      <td>...</td>\n",
       "      <td>...</td>\n",
       "      <td>...</td>\n",
       "      <td>...</td>\n",
       "      <td>...</td>\n",
       "      <td>...</td>\n",
       "      <td>...</td>\n",
       "      <td>...</td>\n",
       "    </tr>\n",
       "    <tr>\n",
       "      <th>992</th>\n",
       "      <td>2836</td>\n",
       "      <td>5434</td>\n",
       "      <td>1</td>\n",
       "      <td>17</td>\n",
       "      <td>1993.0</td>\n",
       "      <td>0</td>\n",
       "      <td>1</td>\n",
       "      <td>0</td>\n",
       "      <td>2</td>\n",
       "      <td>0</td>\n",
       "      <td>1</td>\n",
       "    </tr>\n",
       "    <tr>\n",
       "      <th>993</th>\n",
       "      <td>2890</td>\n",
       "      <td>5479</td>\n",
       "      <td>1</td>\n",
       "      <td>8</td>\n",
       "      <td>1994.0</td>\n",
       "      <td>1</td>\n",
       "      <td>0</td>\n",
       "      <td>1</td>\n",
       "      <td>2</td>\n",
       "      <td>0</td>\n",
       "      <td>1</td>\n",
       "    </tr>\n",
       "    <tr>\n",
       "      <th>994</th>\n",
       "      <td>2972</td>\n",
       "      <td>5480</td>\n",
       "      <td>1</td>\n",
       "      <td>201</td>\n",
       "      <td>1997.0</td>\n",
       "      <td>1</td>\n",
       "      <td>0</td>\n",
       "      <td>1</td>\n",
       "      <td>2</td>\n",
       "      <td>0</td>\n",
       "      <td>1</td>\n",
       "    </tr>\n",
       "    <tr>\n",
       "      <th>995</th>\n",
       "      <td>2973</td>\n",
       "      <td>5481</td>\n",
       "      <td>1</td>\n",
       "      <td>8</td>\n",
       "      <td>1990.0</td>\n",
       "      <td>1</td>\n",
       "      <td>0</td>\n",
       "      <td>1</td>\n",
       "      <td>2</td>\n",
       "      <td>0</td>\n",
       "      <td>1</td>\n",
       "    </tr>\n",
       "    <tr>\n",
       "      <th>996</th>\n",
       "      <td>3041</td>\n",
       "      <td>5482</td>\n",
       "      <td>1</td>\n",
       "      <td>104</td>\n",
       "      <td>1979.0</td>\n",
       "      <td>1</td>\n",
       "      <td>0</td>\n",
       "      <td>1</td>\n",
       "      <td>1</td>\n",
       "      <td>0</td>\n",
       "      <td>1</td>\n",
       "    </tr>\n",
       "  </tbody>\n",
       "</table>\n",
       "<p>894 rows × 11 columns</p>\n",
       "</div>"
      ],
      "text/plain": [
       "     Employee_No  Employee_Code  Religion_ID  Designation_ID  Year_of_Birth  \\\n",
       "0            347              6            1              24         1965.0   \n",
       "1            348             33            1              24         1973.0   \n",
       "2            349             53            1              23         1974.0   \n",
       "3            351             77            4              40         1974.0   \n",
       "4            352             88            1               7         1980.0   \n",
       "..           ...            ...          ...             ...            ...   \n",
       "992         2836           5434            1              17         1993.0   \n",
       "993         2890           5479            1               8         1994.0   \n",
       "994         2972           5480            1             201         1997.0   \n",
       "995         2973           5481            1               8         1990.0   \n",
       "996         3041           5482            1             104         1979.0   \n",
       "\n",
       "     Gender_temp  Status_temp  Title_temp  Employment_Category_temp  \\\n",
       "0              1            0           1                         2   \n",
       "1              1            0           1                         2   \n",
       "2              1            1           1                         2   \n",
       "3              0            1           2                         2   \n",
       "4              1            0           1                         2   \n",
       "..           ...          ...         ...                       ...   \n",
       "992            0            1           0                         2   \n",
       "993            1            0           1                         2   \n",
       "994            1            0           1                         2   \n",
       "995            1            0           1                         2   \n",
       "996            1            0           1                         1   \n",
       "\n",
       "     Employment_Type_temp  Years_of_Service  \n",
       "0                       1                30  \n",
       "1                       1                28  \n",
       "2                       1                35  \n",
       "3                       1                24  \n",
       "4                       1                22  \n",
       "..                    ...               ...  \n",
       "992                     0                 1  \n",
       "993                     0                 1  \n",
       "994                     0                 1  \n",
       "995                     0                 1  \n",
       "996                     0                 1  \n",
       "\n",
       "[894 rows x 11 columns]"
      ]
     },
     "execution_count": 497,
     "metadata": {},
     "output_type": "execute_result"
    }
   ],
   "source": [
    "# train_df"
   ]
  },
  {
   "cell_type": "code",
   "execution_count": 597,
   "metadata": {},
   "outputs": [],
   "source": [
    "# # test_df['Age_at_Joining'] = test_df['Joining_Year'] - test_df['Year_of_Birth']\n",
    "# test_df['Years_of_Service'] = 2023 - test_df['Joining_Year']\n",
    "\n",
    "# Drop unnecessary columns\n",
    "test_df.drop(['Joining_Year'], axis=1, inplace=True)"
   ]
  },
  {
   "cell_type": "code",
   "execution_count": 598,
   "metadata": {},
   "outputs": [],
   "source": [
    "# import train_test_split\n",
    "from sklearn.model_selection import train_test_split\n",
    "\n",
    "# Split the train dataset into train_X, train_y, val_X, val_y\n",
    "train_X, val_X, train_y, val_y = train_test_split(train_df.drop(columns=['Year_of_Birth']), train_df['Year_of_Birth'], test_size=0.2, random_state=42) "
   ]
  },
  {
   "cell_type": "code",
   "execution_count": 599,
   "metadata": {},
   "outputs": [],
   "source": [
    "from sklearn.ensemble import RandomForestRegressor\n",
    "\n",
    "from sklearn.svm import SVC\n",
    "\n",
    "# # Separate the features and target variables in the train_df\n",
    "# train_features = train_df.drop(['Year_of_Birth'], axis=1)\n",
    "# train_target = train_df['Year_of_Birth']\n",
    "\n",
    "# # Separate the features in the test_df\n",
    "# test_features = test_df.drop(['Year_of_Birth'], axis=1)\n"
   ]
  },
  {
   "cell_type": "code",
   "execution_count": 600,
   "metadata": {},
   "outputs": [
    {
     "data": {
      "text/html": [
       "<style>#sk-container-id-28 {color: black;background-color: white;}#sk-container-id-28 pre{padding: 0;}#sk-container-id-28 div.sk-toggleable {background-color: white;}#sk-container-id-28 label.sk-toggleable__label {cursor: pointer;display: block;width: 100%;margin-bottom: 0;padding: 0.3em;box-sizing: border-box;text-align: center;}#sk-container-id-28 label.sk-toggleable__label-arrow:before {content: \"▸\";float: left;margin-right: 0.25em;color: #696969;}#sk-container-id-28 label.sk-toggleable__label-arrow:hover:before {color: black;}#sk-container-id-28 div.sk-estimator:hover label.sk-toggleable__label-arrow:before {color: black;}#sk-container-id-28 div.sk-toggleable__content {max-height: 0;max-width: 0;overflow: hidden;text-align: left;background-color: #f0f8ff;}#sk-container-id-28 div.sk-toggleable__content pre {margin: 0.2em;color: black;border-radius: 0.25em;background-color: #f0f8ff;}#sk-container-id-28 input.sk-toggleable__control:checked~div.sk-toggleable__content {max-height: 200px;max-width: 100%;overflow: auto;}#sk-container-id-28 input.sk-toggleable__control:checked~label.sk-toggleable__label-arrow:before {content: \"▾\";}#sk-container-id-28 div.sk-estimator input.sk-toggleable__control:checked~label.sk-toggleable__label {background-color: #d4ebff;}#sk-container-id-28 div.sk-label input.sk-toggleable__control:checked~label.sk-toggleable__label {background-color: #d4ebff;}#sk-container-id-28 input.sk-hidden--visually {border: 0;clip: rect(1px 1px 1px 1px);clip: rect(1px, 1px, 1px, 1px);height: 1px;margin: -1px;overflow: hidden;padding: 0;position: absolute;width: 1px;}#sk-container-id-28 div.sk-estimator {font-family: monospace;background-color: #f0f8ff;border: 1px dotted black;border-radius: 0.25em;box-sizing: border-box;margin-bottom: 0.5em;}#sk-container-id-28 div.sk-estimator:hover {background-color: #d4ebff;}#sk-container-id-28 div.sk-parallel-item::after {content: \"\";width: 100%;border-bottom: 1px solid gray;flex-grow: 1;}#sk-container-id-28 div.sk-label:hover label.sk-toggleable__label {background-color: #d4ebff;}#sk-container-id-28 div.sk-serial::before {content: \"\";position: absolute;border-left: 1px solid gray;box-sizing: border-box;top: 0;bottom: 0;left: 50%;z-index: 0;}#sk-container-id-28 div.sk-serial {display: flex;flex-direction: column;align-items: center;background-color: white;padding-right: 0.2em;padding-left: 0.2em;position: relative;}#sk-container-id-28 div.sk-item {position: relative;z-index: 1;}#sk-container-id-28 div.sk-parallel {display: flex;align-items: stretch;justify-content: center;background-color: white;position: relative;}#sk-container-id-28 div.sk-item::before, #sk-container-id-28 div.sk-parallel-item::before {content: \"\";position: absolute;border-left: 1px solid gray;box-sizing: border-box;top: 0;bottom: 0;left: 50%;z-index: -1;}#sk-container-id-28 div.sk-parallel-item {display: flex;flex-direction: column;z-index: 1;position: relative;background-color: white;}#sk-container-id-28 div.sk-parallel-item:first-child::after {align-self: flex-end;width: 50%;}#sk-container-id-28 div.sk-parallel-item:last-child::after {align-self: flex-start;width: 50%;}#sk-container-id-28 div.sk-parallel-item:only-child::after {width: 0;}#sk-container-id-28 div.sk-dashed-wrapped {border: 1px dashed gray;margin: 0 0.4em 0.5em 0.4em;box-sizing: border-box;padding-bottom: 0.4em;background-color: white;}#sk-container-id-28 div.sk-label label {font-family: monospace;font-weight: bold;display: inline-block;line-height: 1.2em;}#sk-container-id-28 div.sk-label-container {text-align: center;}#sk-container-id-28 div.sk-container {/* jupyter's `normalize.less` sets `[hidden] { display: none; }` but bootstrap.min.css set `[hidden] { display: none !important; }` so we also need the `!important` here to be able to override the default hidden behavior on the sphinx rendered scikit-learn.org. See: https://github.com/scikit-learn/scikit-learn/issues/21755 */display: inline-block !important;position: relative;}#sk-container-id-28 div.sk-text-repr-fallback {display: none;}</style><div id=\"sk-container-id-28\" class=\"sk-top-container\"><div class=\"sk-text-repr-fallback\"><pre>RandomForestRegressor()</pre><b>In a Jupyter environment, please rerun this cell to show the HTML representation or trust the notebook. <br />On GitHub, the HTML representation is unable to render, please try loading this page with nbviewer.org.</b></div><div class=\"sk-container\" hidden><div class=\"sk-item\"><div class=\"sk-estimator sk-toggleable\"><input class=\"sk-toggleable__control sk-hidden--visually\" id=\"sk-estimator-id-28\" type=\"checkbox\" checked><label for=\"sk-estimator-id-28\" class=\"sk-toggleable__label sk-toggleable__label-arrow\">RandomForestRegressor</label><div class=\"sk-toggleable__content\"><pre>RandomForestRegressor()</pre></div></div></div></div></div>"
      ],
      "text/plain": [
       "RandomForestRegressor()"
      ]
     },
     "execution_count": 600,
     "metadata": {},
     "output_type": "execute_result"
    }
   ],
   "source": [
    "\n",
    "# Initialize the Random Forest regression model\n",
    "rf_model = RandomForestRegressor()\n",
    "\n",
    "# Train the model on the train_df\n",
    "rf_model.fit(train_X, train_y)\n"
   ]
  },
  {
   "cell_type": "code",
   "execution_count": 601,
   "metadata": {},
   "outputs": [
    {
     "data": {
      "text/plain": [
       "Employee_No                 0\n",
       "Employee_Code               0\n",
       "Religion_ID                 0\n",
       "Designation_ID              0\n",
       "Year_of_Birth               0\n",
       "Gender_temp                 0\n",
       "Status_temp                 0\n",
       "Title_temp                  0\n",
       "Employment_Category_temp    0\n",
       "Employment_Type_temp        0\n",
       "Age_at_Joining              0\n",
       "Years_of_Service            0\n",
       "dtype: int64"
      ]
     },
     "execution_count": 601,
     "metadata": {},
     "output_type": "execute_result"
    }
   ],
   "source": [
    "# train_df.isna().sum()"
   ]
  },
  {
   "cell_type": "code",
   "execution_count": 602,
   "metadata": {},
   "outputs": [
    {
     "data": {
      "text/html": [
       "<style>#sk-container-id-29 {color: black;background-color: white;}#sk-container-id-29 pre{padding: 0;}#sk-container-id-29 div.sk-toggleable {background-color: white;}#sk-container-id-29 label.sk-toggleable__label {cursor: pointer;display: block;width: 100%;margin-bottom: 0;padding: 0.3em;box-sizing: border-box;text-align: center;}#sk-container-id-29 label.sk-toggleable__label-arrow:before {content: \"▸\";float: left;margin-right: 0.25em;color: #696969;}#sk-container-id-29 label.sk-toggleable__label-arrow:hover:before {color: black;}#sk-container-id-29 div.sk-estimator:hover label.sk-toggleable__label-arrow:before {color: black;}#sk-container-id-29 div.sk-toggleable__content {max-height: 0;max-width: 0;overflow: hidden;text-align: left;background-color: #f0f8ff;}#sk-container-id-29 div.sk-toggleable__content pre {margin: 0.2em;color: black;border-radius: 0.25em;background-color: #f0f8ff;}#sk-container-id-29 input.sk-toggleable__control:checked~div.sk-toggleable__content {max-height: 200px;max-width: 100%;overflow: auto;}#sk-container-id-29 input.sk-toggleable__control:checked~label.sk-toggleable__label-arrow:before {content: \"▾\";}#sk-container-id-29 div.sk-estimator input.sk-toggleable__control:checked~label.sk-toggleable__label {background-color: #d4ebff;}#sk-container-id-29 div.sk-label input.sk-toggleable__control:checked~label.sk-toggleable__label {background-color: #d4ebff;}#sk-container-id-29 input.sk-hidden--visually {border: 0;clip: rect(1px 1px 1px 1px);clip: rect(1px, 1px, 1px, 1px);height: 1px;margin: -1px;overflow: hidden;padding: 0;position: absolute;width: 1px;}#sk-container-id-29 div.sk-estimator {font-family: monospace;background-color: #f0f8ff;border: 1px dotted black;border-radius: 0.25em;box-sizing: border-box;margin-bottom: 0.5em;}#sk-container-id-29 div.sk-estimator:hover {background-color: #d4ebff;}#sk-container-id-29 div.sk-parallel-item::after {content: \"\";width: 100%;border-bottom: 1px solid gray;flex-grow: 1;}#sk-container-id-29 div.sk-label:hover label.sk-toggleable__label {background-color: #d4ebff;}#sk-container-id-29 div.sk-serial::before {content: \"\";position: absolute;border-left: 1px solid gray;box-sizing: border-box;top: 0;bottom: 0;left: 50%;z-index: 0;}#sk-container-id-29 div.sk-serial {display: flex;flex-direction: column;align-items: center;background-color: white;padding-right: 0.2em;padding-left: 0.2em;position: relative;}#sk-container-id-29 div.sk-item {position: relative;z-index: 1;}#sk-container-id-29 div.sk-parallel {display: flex;align-items: stretch;justify-content: center;background-color: white;position: relative;}#sk-container-id-29 div.sk-item::before, #sk-container-id-29 div.sk-parallel-item::before {content: \"\";position: absolute;border-left: 1px solid gray;box-sizing: border-box;top: 0;bottom: 0;left: 50%;z-index: -1;}#sk-container-id-29 div.sk-parallel-item {display: flex;flex-direction: column;z-index: 1;position: relative;background-color: white;}#sk-container-id-29 div.sk-parallel-item:first-child::after {align-self: flex-end;width: 50%;}#sk-container-id-29 div.sk-parallel-item:last-child::after {align-self: flex-start;width: 50%;}#sk-container-id-29 div.sk-parallel-item:only-child::after {width: 0;}#sk-container-id-29 div.sk-dashed-wrapped {border: 1px dashed gray;margin: 0 0.4em 0.5em 0.4em;box-sizing: border-box;padding-bottom: 0.4em;background-color: white;}#sk-container-id-29 div.sk-label label {font-family: monospace;font-weight: bold;display: inline-block;line-height: 1.2em;}#sk-container-id-29 div.sk-label-container {text-align: center;}#sk-container-id-29 div.sk-container {/* jupyter's `normalize.less` sets `[hidden] { display: none; }` but bootstrap.min.css set `[hidden] { display: none !important; }` so we also need the `!important` here to be able to override the default hidden behavior on the sphinx rendered scikit-learn.org. See: https://github.com/scikit-learn/scikit-learn/issues/21755 */display: inline-block !important;position: relative;}#sk-container-id-29 div.sk-text-repr-fallback {display: none;}</style><div id=\"sk-container-id-29\" class=\"sk-top-container\"><div class=\"sk-text-repr-fallback\"><pre>SVC()</pre><b>In a Jupyter environment, please rerun this cell to show the HTML representation or trust the notebook. <br />On GitHub, the HTML representation is unable to render, please try loading this page with nbviewer.org.</b></div><div class=\"sk-container\" hidden><div class=\"sk-item\"><div class=\"sk-estimator sk-toggleable\"><input class=\"sk-toggleable__control sk-hidden--visually\" id=\"sk-estimator-id-29\" type=\"checkbox\" checked><label for=\"sk-estimator-id-29\" class=\"sk-toggleable__label sk-toggleable__label-arrow\">SVC</label><div class=\"sk-toggleable__content\"><pre>SVC()</pre></div></div></div></div></div>"
      ],
      "text/plain": [
       "SVC()"
      ]
     },
     "execution_count": 602,
     "metadata": {},
     "output_type": "execute_result"
    }
   ],
   "source": [
    "# train svc model\n",
    "svc_model = SVC()\n",
    "svc_model.fit(train_X, train_y)"
   ]
  },
  {
   "cell_type": "code",
   "execution_count": 603,
   "metadata": {},
   "outputs": [
    {
     "data": {
      "text/plain": [
       "0.9957215288165753"
      ]
     },
     "execution_count": 603,
     "metadata": {},
     "output_type": "execute_result"
    }
   ],
   "source": [
    "# test the accuracy of the model\n",
    "# rf_model.score(val_X, val_y)"
   ]
  },
  {
   "cell_type": "code",
   "execution_count": 604,
   "metadata": {},
   "outputs": [
    {
     "data": {
      "text/plain": [
       "0.05027932960893855"
      ]
     },
     "execution_count": 604,
     "metadata": {},
     "output_type": "execute_result"
    }
   ],
   "source": [
    "# accuracy of svc model\n",
    "# svc_model.score(val_X, val_y)"
   ]
  },
  {
   "cell_type": "code",
   "execution_count": 605,
   "metadata": {},
   "outputs": [
    {
     "data": {
      "text/plain": [
       "Employee_No                   0\n",
       "Employee_Code                 0\n",
       "Religion_ID                   0\n",
       "Designation_ID                0\n",
       "Year_of_Birth               103\n",
       "Gender_temp                   0\n",
       "Status_temp                   0\n",
       "Title_temp                    0\n",
       "Employment_Category_temp      0\n",
       "Employment_Type_temp          0\n",
       "Age_at_Joining              103\n",
       "Years_of_Service              0\n",
       "dtype: int64"
      ]
     },
     "execution_count": 605,
     "metadata": {},
     "output_type": "execute_result"
    }
   ],
   "source": [
    "# test_df.isna().sum()    "
   ]
  },
  {
   "cell_type": "code",
   "execution_count": 606,
   "metadata": {},
   "outputs": [],
   "source": [
    "# fill Age_at_Joining with mean\n",
    "test_df['Age_at_Joining'].fillna(train_df['Age_at_Joining'].mean(), inplace=True)"
   ]
  },
  {
   "cell_type": "code",
   "execution_count": 608,
   "metadata": {},
   "outputs": [],
   "source": [
    "# test_df.isna().sum()"
   ]
  },
  {
   "cell_type": "code",
   "execution_count": 609,
   "metadata": {},
   "outputs": [],
   "source": [
    "\n",
    "# Predict the missing values in the test_df using the trained model\n",
    "imputed_values = rf_model.predict(test_df.drop(columns=['Year_of_Birth']))\n",
    "# imputed_values\n"
   ]
  },
  {
   "cell_type": "code",
   "execution_count": 610,
   "metadata": {},
   "outputs": [],
   "source": [
    "\n",
    "\n",
    "# Update the 'Year_of_Birth' column in the test_df with the imputed values\n",
    "test_df['Year_of_Birth'] = imputed_values"
   ]
  },
  {
   "cell_type": "code",
   "execution_count": 611,
   "metadata": {},
   "outputs": [],
   "source": [
    "# Concatenate the train_df and test_df\n",
    "imp = pd.concat([train_df, test_df], ignore_index=True)"
   ]
  },
  {
   "cell_type": "code",
   "execution_count": 612,
   "metadata": {},
   "outputs": [],
   "source": [
    "# imp"
   ]
  },
  {
   "cell_type": "code",
   "execution_count": 613,
   "metadata": {},
   "outputs": [],
   "source": [
    "# convert the 'Year_of_Birth' column to integer type\n",
    "imp['Year_of_Birth'] = imp['Year_of_Birth'].astype(int)"
   ]
  },
  {
   "cell_type": "code",
   "execution_count": 614,
   "metadata": {},
   "outputs": [],
   "source": [
    "# imp"
   ]
  },
  {
   "cell_type": "code",
   "execution_count": 615,
   "metadata": {},
   "outputs": [],
   "source": [
    "employee_copy = employee.copy()"
   ]
  },
  {
   "cell_type": "code",
   "execution_count": 616,
   "metadata": {},
   "outputs": [],
   "source": [
    "employee = employee_copy.copy()"
   ]
  },
  {
   "cell_type": "code",
   "execution_count": 617,
   "metadata": {},
   "outputs": [],
   "source": [
    "# replace the 'Year_of_Birth' column in the original employee dataframe with the imputed values based on Employee_No\n",
    "employee_copy['Year_of_Birth'] = employee_copy['Employee_No'].map(imp.set_index('Employee_No')['Year_of_Birth'])"
   ]
  },
  {
   "cell_type": "code",
   "execution_count": null,
   "metadata": {},
   "outputs": [],
   "source": []
  },
  {
   "cell_type": "code",
   "execution_count": 618,
   "metadata": {},
   "outputs": [],
   "source": [
    "# employee_copy"
   ]
  },
  {
   "cell_type": "code",
   "execution_count": 619,
   "metadata": {},
   "outputs": [],
   "source": [
    "# convert date joined to datetime\n",
    "employee_copy['Date_Joined'] = pd.to_datetime(employee_copy['Date_Joined'])"
   ]
  },
  {
   "cell_type": "code",
   "execution_count": 542,
   "metadata": {},
   "outputs": [],
   "source": [
    "# employee_copy.isna().sum()"
   ]
  },
  {
   "cell_type": "code",
   "execution_count": 620,
   "metadata": {},
   "outputs": [],
   "source": [
    "# get age at joining\n",
    "employee_copy['Age_at_Joining'] = employee_copy['Date_Joined'].dt.year - employee_copy['Year_of_Birth']\n",
    "employee_copy['Age_at_Joining'] = employee_copy['Age_at_Joining'].astype(int)\n",
    "# employee_copy['Age_at_Joining'].describe()"
   ]
  },
  {
   "cell_type": "code",
   "execution_count": 212,
   "metadata": {},
   "outputs": [],
   "source": [
    "# # drop rows where age at joining is less than 18\n",
    "# employee = employee[employee['Age_at_Joining'] >= 18]"
   ]
  },
  {
   "cell_type": "code",
   "execution_count": 621,
   "metadata": {},
   "outputs": [],
   "source": [
    "# get date_resigned = \"\\\\N\" to 0000-00-00\n",
    "# employee.loc[employee['Date_Resigned'] == '\\\\N', 'Date_Resigned'] = '0000-00-00'"
   ]
  },
  {
   "cell_type": "code",
   "execution_count": null,
   "metadata": {},
   "outputs": [],
   "source": []
  },
  {
   "cell_type": "code",
   "execution_count": 622,
   "metadata": {},
   "outputs": [],
   "source": [
    "# employee['Employment_Type']"
   ]
  },
  {
   "cell_type": "code",
   "execution_count": null,
   "metadata": {},
   "outputs": [],
   "source": []
  },
  {
   "cell_type": "code",
   "execution_count": null,
   "metadata": {},
   "outputs": [],
   "source": []
  },
  {
   "cell_type": "code",
   "execution_count": 623,
   "metadata": {},
   "outputs": [],
   "source": [
    "# employee_copy"
   ]
  },
  {
   "attachments": {},
   "cell_type": "markdown",
   "metadata": {},
   "source": [
    "### Data imputations in Marital_Status column"
   ]
  },
  {
   "cell_type": "code",
   "execution_count": 624,
   "metadata": {},
   "outputs": [],
   "source": [
    "employee_copy_copy = employee.copy()"
   ]
  },
  {
   "cell_type": "code",
   "execution_count": 625,
   "metadata": {},
   "outputs": [],
   "source": [
    "employee = employee_copy.copy()"
   ]
  },
  {
   "cell_type": "code",
   "execution_count": 626,
   "metadata": {},
   "outputs": [],
   "source": [
    "from sklearn.ensemble import RandomForestClassifier"
   ]
  },
  {
   "cell_type": "code",
   "execution_count": 627,
   "metadata": {},
   "outputs": [],
   "source": [
    "# employee.columns"
   ]
  },
  {
   "cell_type": "markdown",
   "metadata": {},
   "source": [
    "### Imputing Missing Values in year of birth"
   ]
  },
  {
   "cell_type": "code",
   "execution_count": 628,
   "metadata": {},
   "outputs": [],
   "source": [
    "# employee.columns.to_list()"
   ]
  },
  {
   "cell_type": "code",
   "execution_count": 629,
   "metadata": {},
   "outputs": [],
   "source": [
    "# employee.isna().sum()"
   ]
  },
  {
   "cell_type": "code",
   "execution_count": 630,
   "metadata": {},
   "outputs": [],
   "source": [
    "# Assuming 'df' is the DataFrame containing the dataset\n",
    "test_df = employee[pd.isnull(employee['Marital_Status'])]\n",
    "train_df = employee[pd.notnull(employee['Marital_Status'])]"
   ]
  },
  {
   "cell_type": "code",
   "execution_count": 631,
   "metadata": {},
   "outputs": [],
   "source": [
    "train_df = train_df.drop(columns=['Name','Title','Gender','Date_Resigned','Status','Date_Joined','Inactive_Date','Reporting_emp_1','Reporting_emp_2','Employment_Category','Employment_Type','Religion','Designation'])\n",
    "\n",
    "test_df = test_df.drop(columns=['Name','Title','Gender','Date_Resigned','Status','Date_Joined','Inactive_Date','Reporting_emp_1','Reporting_emp_2','Employment_Category','Employment_Type','Religion','Designation'])"
   ]
  },
  {
   "cell_type": "code",
   "execution_count": 632,
   "metadata": {},
   "outputs": [],
   "source": [
    "train_df['Marital_Status'] = label_encoder.fit_transform(train_df['Marital_Status'].astype(str))"
   ]
  },
  {
   "cell_type": "code",
   "execution_count": 634,
   "metadata": {},
   "outputs": [],
   "source": [
    "# train_df"
   ]
  },
  {
   "cell_type": "code",
   "execution_count": 635,
   "metadata": {},
   "outputs": [],
   "source": [
    "from sklearn.model_selection import train_test_split\n",
    "X = train_df.drop('Marital_Status', axis=1)\n",
    "y = train_df['Marital_Status']\n",
    "\n",
    "X_train, X_val, y_train, y_val = train_test_split(X, y, test_size=0.2, random_state=42)\n"
   ]
  },
  {
   "cell_type": "code",
   "execution_count": 636,
   "metadata": {},
   "outputs": [
    {
     "data": {
      "text/html": [
       "<style>#sk-container-id-30 {color: black;background-color: white;}#sk-container-id-30 pre{padding: 0;}#sk-container-id-30 div.sk-toggleable {background-color: white;}#sk-container-id-30 label.sk-toggleable__label {cursor: pointer;display: block;width: 100%;margin-bottom: 0;padding: 0.3em;box-sizing: border-box;text-align: center;}#sk-container-id-30 label.sk-toggleable__label-arrow:before {content: \"▸\";float: left;margin-right: 0.25em;color: #696969;}#sk-container-id-30 label.sk-toggleable__label-arrow:hover:before {color: black;}#sk-container-id-30 div.sk-estimator:hover label.sk-toggleable__label-arrow:before {color: black;}#sk-container-id-30 div.sk-toggleable__content {max-height: 0;max-width: 0;overflow: hidden;text-align: left;background-color: #f0f8ff;}#sk-container-id-30 div.sk-toggleable__content pre {margin: 0.2em;color: black;border-radius: 0.25em;background-color: #f0f8ff;}#sk-container-id-30 input.sk-toggleable__control:checked~div.sk-toggleable__content {max-height: 200px;max-width: 100%;overflow: auto;}#sk-container-id-30 input.sk-toggleable__control:checked~label.sk-toggleable__label-arrow:before {content: \"▾\";}#sk-container-id-30 div.sk-estimator input.sk-toggleable__control:checked~label.sk-toggleable__label {background-color: #d4ebff;}#sk-container-id-30 div.sk-label input.sk-toggleable__control:checked~label.sk-toggleable__label {background-color: #d4ebff;}#sk-container-id-30 input.sk-hidden--visually {border: 0;clip: rect(1px 1px 1px 1px);clip: rect(1px, 1px, 1px, 1px);height: 1px;margin: -1px;overflow: hidden;padding: 0;position: absolute;width: 1px;}#sk-container-id-30 div.sk-estimator {font-family: monospace;background-color: #f0f8ff;border: 1px dotted black;border-radius: 0.25em;box-sizing: border-box;margin-bottom: 0.5em;}#sk-container-id-30 div.sk-estimator:hover {background-color: #d4ebff;}#sk-container-id-30 div.sk-parallel-item::after {content: \"\";width: 100%;border-bottom: 1px solid gray;flex-grow: 1;}#sk-container-id-30 div.sk-label:hover label.sk-toggleable__label {background-color: #d4ebff;}#sk-container-id-30 div.sk-serial::before {content: \"\";position: absolute;border-left: 1px solid gray;box-sizing: border-box;top: 0;bottom: 0;left: 50%;z-index: 0;}#sk-container-id-30 div.sk-serial {display: flex;flex-direction: column;align-items: center;background-color: white;padding-right: 0.2em;padding-left: 0.2em;position: relative;}#sk-container-id-30 div.sk-item {position: relative;z-index: 1;}#sk-container-id-30 div.sk-parallel {display: flex;align-items: stretch;justify-content: center;background-color: white;position: relative;}#sk-container-id-30 div.sk-item::before, #sk-container-id-30 div.sk-parallel-item::before {content: \"\";position: absolute;border-left: 1px solid gray;box-sizing: border-box;top: 0;bottom: 0;left: 50%;z-index: -1;}#sk-container-id-30 div.sk-parallel-item {display: flex;flex-direction: column;z-index: 1;position: relative;background-color: white;}#sk-container-id-30 div.sk-parallel-item:first-child::after {align-self: flex-end;width: 50%;}#sk-container-id-30 div.sk-parallel-item:last-child::after {align-self: flex-start;width: 50%;}#sk-container-id-30 div.sk-parallel-item:only-child::after {width: 0;}#sk-container-id-30 div.sk-dashed-wrapped {border: 1px dashed gray;margin: 0 0.4em 0.5em 0.4em;box-sizing: border-box;padding-bottom: 0.4em;background-color: white;}#sk-container-id-30 div.sk-label label {font-family: monospace;font-weight: bold;display: inline-block;line-height: 1.2em;}#sk-container-id-30 div.sk-label-container {text-align: center;}#sk-container-id-30 div.sk-container {/* jupyter's `normalize.less` sets `[hidden] { display: none; }` but bootstrap.min.css set `[hidden] { display: none !important; }` so we also need the `!important` here to be able to override the default hidden behavior on the sphinx rendered scikit-learn.org. See: https://github.com/scikit-learn/scikit-learn/issues/21755 */display: inline-block !important;position: relative;}#sk-container-id-30 div.sk-text-repr-fallback {display: none;}</style><div id=\"sk-container-id-30\" class=\"sk-top-container\"><div class=\"sk-text-repr-fallback\"><pre>RandomForestClassifier()</pre><b>In a Jupyter environment, please rerun this cell to show the HTML representation or trust the notebook. <br />On GitHub, the HTML representation is unable to render, please try loading this page with nbviewer.org.</b></div><div class=\"sk-container\" hidden><div class=\"sk-item\"><div class=\"sk-estimator sk-toggleable\"><input class=\"sk-toggleable__control sk-hidden--visually\" id=\"sk-estimator-id-30\" type=\"checkbox\" checked><label for=\"sk-estimator-id-30\" class=\"sk-toggleable__label sk-toggleable__label-arrow\">RandomForestClassifier</label><div class=\"sk-toggleable__content\"><pre>RandomForestClassifier()</pre></div></div></div></div></div>"
      ],
      "text/plain": [
       "RandomForestClassifier()"
      ]
     },
     "execution_count": 636,
     "metadata": {},
     "output_type": "execute_result"
    }
   ],
   "source": [
    "model = RandomForestClassifier()\n",
    "model.fit(X_train, y_train)"
   ]
  },
  {
   "cell_type": "code",
   "execution_count": 637,
   "metadata": {},
   "outputs": [],
   "source": [
    "# use X_val and y_val to evaluate the model\n",
    "y_pred = model.predict(X_val)\n",
    "\n",
    "from sklearn.metrics import accuracy_score\n",
    "# print('Accuracy Score:', accuracy_score(y_val, y_pred))\n"
   ]
  },
  {
   "cell_type": "code",
   "execution_count": null,
   "metadata": {},
   "outputs": [],
   "source": []
  },
  {
   "cell_type": "code",
   "execution_count": 638,
   "metadata": {},
   "outputs": [],
   "source": [
    "# test_df['Marital_Status'] = label_encoder.transform(test_df['Marital_Status'].astype(str))\n",
    "test_df['Marital_Status'] = model.predict(test_df.drop('Marital_Status', axis=1))\n"
   ]
  },
  {
   "cell_type": "code",
   "execution_count": 640,
   "metadata": {},
   "outputs": [],
   "source": [
    "# test_df['Marital_Status']"
   ]
  },
  {
   "cell_type": "code",
   "execution_count": 641,
   "metadata": {},
   "outputs": [],
   "source": [
    "# concat train_df and test_df into employee_after df\n",
    "employee_after = pd.concat([train_df, test_df], axis=0)"
   ]
  },
  {
   "cell_type": "code",
   "execution_count": 642,
   "metadata": {},
   "outputs": [],
   "source": [
    "# employee "
   ]
  },
  {
   "cell_type": "code",
   "execution_count": 643,
   "metadata": {},
   "outputs": [],
   "source": [
    "# employee_after"
   ]
  },
  {
   "cell_type": "code",
   "execution_count": 644,
   "metadata": {},
   "outputs": [],
   "source": [
    "emmployee_copy_copy = employee.copy()\n"
   ]
  },
  {
   "cell_type": "code",
   "execution_count": 645,
   "metadata": {},
   "outputs": [],
   "source": [
    "# replace marital status in employee with marital status in employee_after based on employee_no\n",
    "employee = pd.merge(employee, employee_after[['Employee_No', 'Marital_Status']], on='Employee_No', how='left')"
   ]
  },
  {
   "cell_type": "code",
   "execution_count": 646,
   "metadata": {},
   "outputs": [],
   "source": [
    "# employee"
   ]
  },
  {
   "cell_type": "code",
   "execution_count": 647,
   "metadata": {},
   "outputs": [],
   "source": [
    "emmployee_copy_copy = employee.copy()\n",
    "# Assuming 'df' is the DataFrame containing the data\n",
    "dick = {employee.loc[employee['Employee_No'] == 347, 'Marital_Status_y'].values[0]: 'Married', employee.loc[employee['Employee_No'] == 2836, 'Marital_Status_y'].values[0]: 'Single'}\n",
    "employee['Marital_Status_y'] = employee['Marital_Status_y'].replace(dick)\n",
    "# employee"
   ]
  },
  {
   "cell_type": "code",
   "execution_count": 649,
   "metadata": {},
   "outputs": [],
   "source": [
    "# employee.isna().sum()"
   ]
  },
  {
   "cell_type": "code",
   "execution_count": 650,
   "metadata": {},
   "outputs": [],
   "source": [
    "employee.drop(columns=['Marital_Status_x'], inplace=True)"
   ]
  },
  {
   "cell_type": "code",
   "execution_count": 651,
   "metadata": {},
   "outputs": [],
   "source": [
    "# rename Marital_Status_y column to Marital_Status\n",
    "employee = employee.rename(columns={'Marital_Status_y': 'Marital_Status'})"
   ]
  },
  {
   "cell_type": "code",
   "execution_count": 652,
   "metadata": {},
   "outputs": [],
   "source": [
    "# employee"
   ]
  },
  {
   "cell_type": "code",
   "execution_count": 653,
   "metadata": {},
   "outputs": [],
   "source": [
    "employee_original = pd.read_csv('employees.csv')"
   ]
  },
  {
   "cell_type": "code",
   "execution_count": 654,
   "metadata": {},
   "outputs": [],
   "source": [
    "# employee_original"
   ]
  },
  {
   "cell_type": "code",
   "execution_count": 655,
   "metadata": {},
   "outputs": [],
   "source": [
    "cols = employee_original.columns.to_list()\n",
    "# cols"
   ]
  },
  {
   "cell_type": "code",
   "execution_count": 656,
   "metadata": {},
   "outputs": [],
   "source": [
    "employee_cleaned = employee[cols]"
   ]
  },
  {
   "cell_type": "code",
   "execution_count": 657,
   "metadata": {},
   "outputs": [],
   "source": [
    "# employee_cleaned.isna().sum()\n"
   ]
  },
  {
   "cell_type": "code",
   "execution_count": 658,
   "metadata": {},
   "outputs": [],
   "source": [
    "# If the Gender is Female, and Status is Married, Change title to Miss\n",
    "employee_cleaned.loc[(employee_cleaned['Gender'] == 'Female') & (employee_cleaned['Marital_Status'] == 'Married'), 'Title'] = 'Ms'\n",
    "\n",
    "\n",
    "# If the Gender is Female, and Status is Single, Change title to Miss\n",
    "employee_cleaned.loc[(employee_cleaned['Gender'] == 'Female') & (employee_cleaned['Marital_Status'] == 'Single'), 'Title'] = 'Miss'\n"
   ]
  },
  {
   "attachments": {},
   "cell_type": "markdown",
   "metadata": {},
   "source": [
    "## Doing too much"
   ]
  },
  {
   "cell_type": "code",
   "execution_count": 659,
   "metadata": {},
   "outputs": [],
   "source": [
    "# export employee_cleaned as csv\n",
    "\n",
    "employee_cleaned.to_csv('employee_preprocess_200304N.csv', index=False)"
   ]
  }
 ],
 "metadata": {
  "kernelspec": {
   "display_name": "ml",
   "language": "python",
   "name": "python3"
  },
  "language_info": {
   "codemirror_mode": {
    "name": "ipython",
    "version": 3
   },
   "file_extension": ".py",
   "mimetype": "text/x-python",
   "name": "python",
   "nbconvert_exporter": "python",
   "pygments_lexer": "ipython3",
   "version": "3.10.11"
  },
  "orig_nbformat": 4
 },
 "nbformat": 4,
 "nbformat_minor": 2
}
